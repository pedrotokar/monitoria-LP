{
 "cells": [
  {
   "cell_type": "code",
   "execution_count": 1,
   "id": "2267a5ff-aaaa-40d4-b9e5-d4c8bcf51151",
   "metadata": {},
   "outputs": [],
   "source": [
    "import numpy as np\n",
    "import pandas as pd"
   ]
  },
  {
   "cell_type": "code",
   "execution_count": 2,
   "id": "dc5bef8a-c532-4336-96a5-ee83137dd8eb",
   "metadata": {},
   "outputs": [],
   "source": [
    "lista_1 = [1,2,3,4,6]\n",
    "lista_2 = [\"I\",\"II\",\"III\",\"IV\",\"V\"]\n",
    "\n",
    "dic_1 = {\"I\":1,\"II\":2,\"III\":3,\"IV\":4,\"V\":5}\n",
    "\n",
    "ndarray_1 = np.array(lista_1)"
   ]
  },
  {
   "cell_type": "markdown",
   "id": "832e0206-1aa7-4ca2-a2d4-8a9bd40260e5",
   "metadata": {},
   "source": [
    "## Criando séries"
   ]
  },
  {
   "cell_type": "code",
   "execution_count": 3,
   "id": "ef6bd089-030b-4a58-b518-730fc685231f",
   "metadata": {},
   "outputs": [
    {
     "data": {
      "text/plain": [
       "I      1\n",
       "II     2\n",
       "III    3\n",
       "IV     4\n",
       "V      6\n",
       "dtype: int64"
      ]
     },
     "execution_count": 3,
     "metadata": {},
     "output_type": "execute_result"
    }
   ],
   "source": [
    "s1 = pd.Series(lista_1, lista_2) #O primeiro parâmetro é a lista/array e o segundo é o índice\n",
    "s1"
   ]
  },
  {
   "cell_type": "code",
   "execution_count": 4,
   "id": "9e004c2f-9974-4105-8b63-7d2696e8f3aa",
   "metadata": {},
   "outputs": [
    {
     "data": {
      "text/plain": [
       "1      I\n",
       "2     II\n",
       "3    III\n",
       "4     IV\n",
       "6      V\n",
       "dtype: object"
      ]
     },
     "execution_count": 4,
     "metadata": {},
     "output_type": "execute_result"
    }
   ],
   "source": [
    "s2 = pd.Series(lista_2, lista_1) #Podemos ter índices númericos ou de strings ou mistos\n",
    "s2"
   ]
  },
  {
   "cell_type": "code",
   "execution_count": 5,
   "id": "da0ed56f-341b-4cf3-97dd-9ca696d0499d",
   "metadata": {},
   "outputs": [
    {
     "data": {
      "text/plain": [
       "I      1\n",
       "II     2\n",
       "III    3\n",
       "IV     4\n",
       "V      5\n",
       "dtype: int64"
      ]
     },
     "execution_count": 5,
     "metadata": {},
     "output_type": "execute_result"
    }
   ],
   "source": [
    "s3 = pd.Series(dic_1) #Podemos criar de dicionários também\n",
    "s3"
   ]
  },
  {
   "cell_type": "code",
   "execution_count": 6,
   "id": "5668246c-dda2-444b-86fc-a7219809c006",
   "metadata": {},
   "outputs": [
    {
     "data": {
      "text/plain": [
       "0    1\n",
       "1    2\n",
       "2    3\n",
       "3    4\n",
       "4    6\n",
       "Name: Série, dtype: int64"
      ]
     },
     "execution_count": 6,
     "metadata": {},
     "output_type": "execute_result"
    }
   ],
   "source": [
    "s4 = pd.Series(ndarray_1, name = \"Série\") #Colocar nomes é útil quando se está trabalhando com várias séries (DataFrame)\n",
    "s4"
   ]
  },
  {
   "cell_type": "code",
   "execution_count": 7,
   "id": "9409b64d-39cd-49f7-a1c3-1c70dec86662",
   "metadata": {},
   "outputs": [
    {
     "data": {
      "text/plain": [
       "I      1\n",
       "II     2\n",
       "III    3\n",
       "IV     4\n",
       "V      6\n",
       "dtype: int64"
      ]
     },
     "execution_count": 7,
     "metadata": {},
     "output_type": "execute_result"
    }
   ],
   "source": [
    "s4 = pd.Series(ndarray_1, lista_2)\n",
    "s4"
   ]
  },
  {
   "cell_type": "code",
   "execution_count": 8,
   "id": "85608a4b-5254-47d8-82c0-02f46972269e",
   "metadata": {},
   "outputs": [
    {
     "data": {
      "text/plain": [
       "1    1\n",
       "2    2\n",
       "3    3\n",
       "4    4\n",
       "6    6\n",
       "dtype: int64"
      ]
     },
     "execution_count": 8,
     "metadata": {},
     "output_type": "execute_result"
    }
   ],
   "source": [
    "s5 = pd.Series(ndarray_1, lista_1)\n",
    "s5"
   ]
  },
  {
   "cell_type": "code",
   "execution_count": 9,
   "id": "86b83063-7089-432c-bfdb-5f1a6c16d498",
   "metadata": {},
   "outputs": [
    {
     "data": {
      "text/plain": [
       "array([1, 2, 3, 4, 6])"
      ]
     },
     "execution_count": 9,
     "metadata": {},
     "output_type": "execute_result"
    }
   ],
   "source": [
    "s1.to_numpy()"
   ]
  },
  {
   "cell_type": "code",
   "execution_count": 10,
   "id": "586f7660-8837-41cb-ae87-bbd1af33777d",
   "metadata": {},
   "outputs": [
    {
     "data": {
      "text/plain": [
       "[1, 2, 3, 4, 6]"
      ]
     },
     "execution_count": 10,
     "metadata": {},
     "output_type": "execute_result"
    }
   ],
   "source": [
    "s1.to_list()"
   ]
  },
  {
   "cell_type": "markdown",
   "id": "2eafeb8b-b340-43d6-9ef6-9777f9ce7378",
   "metadata": {},
   "source": [
    "## Indexando series"
   ]
  },
  {
   "cell_type": "code",
   "execution_count": 11,
   "id": "a1200c0c-c635-4946-ba9f-fc6558db8d71",
   "metadata": {},
   "outputs": [
    {
     "name": "stderr",
     "output_type": "stream",
     "text": [
      "/tmp/ipykernel_9873/625738788.py:1: FutureWarning: Series.__getitem__ treating keys as positions is deprecated. In a future version, integer keys will always be treated as labels (consistent with DataFrame behavior). To access a value by position, use `ser.iloc[pos]`\n",
      "  s1[2]\n"
     ]
    },
    {
     "data": {
      "text/plain": [
       "np.int64(3)"
      ]
     },
     "execution_count": 11,
     "metadata": {},
     "output_type": "execute_result"
    }
   ],
   "source": [
    "s1[2]"
   ]
  },
  {
   "cell_type": "code",
   "execution_count": 12,
   "id": "ef59c722-ae2e-4c5b-b8cc-f4ae152cc3f7",
   "metadata": {},
   "outputs": [
    {
     "data": {
      "text/plain": [
       "np.int64(3)"
      ]
     },
     "execution_count": 12,
     "metadata": {},
     "output_type": "execute_result"
    }
   ],
   "source": [
    "s1.iloc[2] #sempre melhor usar iloc para indexar por posição/índice númerico personalizado"
   ]
  },
  {
   "cell_type": "code",
   "execution_count": 13,
   "id": "9de5e1ef-5c58-459a-9630-0924fb4d7f06",
   "metadata": {},
   "outputs": [
    {
     "data": {
      "text/plain": [
       "I      1\n",
       "II     2\n",
       "III    3\n",
       "dtype: int64"
      ]
     },
     "execution_count": 13,
     "metadata": {},
     "output_type": "execute_result"
    }
   ],
   "source": [
    "s1[:3] #Se o índice da série é por string, então ainda podemos usar um índice convencional (0-indexaddo)"
   ]
  },
  {
   "cell_type": "code",
   "execution_count": 14,
   "id": "b97acd56-8902-460d-89df-99b1806cf294",
   "metadata": {},
   "outputs": [
    {
     "data": {
      "text/plain": [
       "I     1\n",
       "II    2\n",
       "dtype: int64"
      ]
     },
     "execution_count": 14,
     "metadata": {},
     "output_type": "execute_result"
    }
   ],
   "source": [
    "s1.head(2)"
   ]
  },
  {
   "cell_type": "code",
   "execution_count": 15,
   "id": "774fdffd-c48c-4944-b810-eb2ddc7a9b7d",
   "metadata": {},
   "outputs": [
    {
     "data": {
      "text/plain": [
       "IV    4\n",
       "V     6\n",
       "dtype: int64"
      ]
     },
     "execution_count": 15,
     "metadata": {},
     "output_type": "execute_result"
    }
   ],
   "source": [
    "s1.tail(2)"
   ]
  },
  {
   "cell_type": "code",
   "execution_count": 16,
   "id": "6ebe3257-fc2e-45b0-b715-f7901376badb",
   "metadata": {},
   "outputs": [
    {
     "data": {
      "text/plain": [
       "III    3\n",
       "IV     4\n",
       "V      6\n",
       "dtype: int64"
      ]
     },
     "execution_count": 16,
     "metadata": {},
     "output_type": "execute_result"
    }
   ],
   "source": [
    "s1.iloc[-3:]"
   ]
  },
  {
   "cell_type": "code",
   "execution_count": 17,
   "id": "82b65645-4825-4341-b404-dcff314d3e98",
   "metadata": {},
   "outputs": [
    {
     "data": {
      "text/plain": [
       "np.int64(1)"
      ]
     },
     "execution_count": 17,
     "metadata": {},
     "output_type": "execute_result"
    }
   ],
   "source": [
    "s1 = pd.Series(dic_1)\n",
    "s1[\"I\"] #acessando pelo índice"
   ]
  },
  {
   "cell_type": "code",
   "execution_count": 18,
   "id": "2e6e7ca6-12fd-47ab-b293-80250754262d",
   "metadata": {},
   "outputs": [
    {
     "data": {
      "text/plain": [
       "np.int64(1)"
      ]
     },
     "execution_count": 18,
     "metadata": {},
     "output_type": "execute_result"
    }
   ],
   "source": [
    "s1.loc[\"I\"] #é melhor usar o `.loc` quando for indexar"
   ]
  },
  {
   "cell_type": "code",
   "execution_count": 19,
   "id": "62df83a0-5d16-4cd1-8d74-536e3f095972",
   "metadata": {},
   "outputs": [
    {
     "data": {
      "text/plain": [
       "'V'"
      ]
     },
     "execution_count": 19,
     "metadata": {},
     "output_type": "execute_result"
    }
   ],
   "source": [
    "s1.idxmax() #índice máximo"
   ]
  },
  {
   "cell_type": "code",
   "execution_count": 20,
   "id": "880cf59a-43cc-4f79-9e3f-17f86fa49753",
   "metadata": {},
   "outputs": [
    {
     "data": {
      "text/plain": [
       "'I'"
      ]
     },
     "execution_count": 20,
     "metadata": {},
     "output_type": "execute_result"
    }
   ],
   "source": [
    "s1.idxmin() #índice mínimo"
   ]
  },
  {
   "cell_type": "code",
   "execution_count": 21,
   "id": "4fd11522-7dc7-44d3-b392-8ee7c47a0612",
   "metadata": {},
   "outputs": [
    {
     "data": {
      "text/plain": [
       "I      1\n",
       "II     2\n",
       "III    3\n",
       "IV     4\n",
       "dtype: int64"
      ]
     },
     "execution_count": 21,
     "metadata": {},
     "output_type": "execute_result"
    }
   ],
   "source": [
    "s1.loc[\"I\":\"IV\"] #Podemos fazer slice por índice"
   ]
  },
  {
   "cell_type": "code",
   "execution_count": 22,
   "id": "cd15e715-d7be-480c-9b15-dac122b327a8",
   "metadata": {},
   "outputs": [
    {
     "data": {
      "text/plain": [
       "1      I\n",
       "2     II\n",
       "3    III\n",
       "4     IV\n",
       "dtype: object"
      ]
     },
     "execution_count": 22,
     "metadata": {},
     "output_type": "execute_result"
    }
   ],
   "source": [
    "s2.loc[1:5] #Usando loc ele conta o slice pelos índices e não pela posição"
   ]
  },
  {
   "cell_type": "code",
   "execution_count": 23,
   "id": "93fdb935-33b7-43f5-8a80-4dd96fa73241",
   "metadata": {},
   "outputs": [
    {
     "data": {
      "text/plain": [
       "I           10\n",
       "II          42\n",
       "III          7\n",
       "V      1000000\n",
       "dtype: int64"
      ]
     },
     "execution_count": 23,
     "metadata": {},
     "output_type": "execute_result"
    }
   ],
   "source": [
    "dic_2 = {\"I\":10,\"II\":42,\"III\":7,\"V\":1_000_000}\n",
    "dic_3 = {\"I\":1,\"II\":12,\"III\":13,\"IV\":-1}\n",
    "\n",
    "s6 = pd.Series(dic_2)\n",
    "s7 = pd.Series(dic_3)\n",
    "\n",
    "s6"
   ]
  },
  {
   "cell_type": "code",
   "execution_count": 24,
   "id": "076d1ada-4255-40f5-8a8e-625f92261daf",
   "metadata": {},
   "outputs": [
    {
     "data": {
      "text/plain": [
       "I       1\n",
       "II     12\n",
       "III    13\n",
       "IV     -1\n",
       "dtype: int64"
      ]
     },
     "execution_count": 24,
     "metadata": {},
     "output_type": "execute_result"
    }
   ],
   "source": [
    "s7"
   ]
  },
  {
   "cell_type": "markdown",
   "id": "fb5afea3-c20f-49d7-a6bc-d3219f2cafd3",
   "metadata": {},
   "source": [
    "## Operações com mais de uma série"
   ]
  },
  {
   "cell_type": "code",
   "execution_count": 25,
   "id": "f5c1fcfe-2df1-4fd1-9247-9f1aa8c7f2be",
   "metadata": {},
   "outputs": [
    {
     "data": {
      "text/plain": [
       "I      11.0\n",
       "II     54.0\n",
       "III    20.0\n",
       "IV      NaN\n",
       "V       NaN\n",
       "dtype: float64"
      ]
     },
     "execution_count": 25,
     "metadata": {},
     "output_type": "execute_result"
    }
   ],
   "source": [
    "resultado = s6.add(s7) #Soma de acordo com os índices, dá NaN se não tem o índice nas duas séries\n",
    "resultado\n",
    "#Equivalente a fazer s6 + s7, mas sem poder passar parâmetros"
   ]
  },
  {
   "cell_type": "code",
   "execution_count": 26,
   "id": "d7b3a68e-a869-470d-a3b7-60ba2907a1f6",
   "metadata": {},
   "outputs": [
    {
     "data": {
      "text/plain": [
       "I       9.0\n",
       "II     30.0\n",
       "III    -6.0\n",
       "IV      NaN\n",
       "V       NaN\n",
       "dtype: float64"
      ]
     },
     "execution_count": 26,
     "metadata": {},
     "output_type": "execute_result"
    }
   ],
   "source": [
    "resultado = s6.sub(s7)\n",
    "resultado"
   ]
  },
  {
   "cell_type": "code",
   "execution_count": 27,
   "id": "42ec2d5e-f8bf-4640-908b-d1eb6069a482",
   "metadata": {},
   "outputs": [
    {
     "data": {
      "text/plain": [
       "np.int64(3)"
      ]
     },
     "execution_count": 27,
     "metadata": {},
     "output_type": "execute_result"
    }
   ],
   "source": [
    "resultado.count() #Usado para contar quantos elementos não nulos tem"
   ]
  },
  {
   "cell_type": "code",
   "execution_count": 28,
   "id": "9c47e773-3e7e-4ac0-87d1-9eed52f9b537",
   "metadata": {},
   "outputs": [
    {
     "data": {
      "text/plain": [
       "5"
      ]
     },
     "execution_count": 28,
     "metadata": {},
     "output_type": "execute_result"
    }
   ],
   "source": [
    "resultado.size #Usado para saber o tamanho total da sére"
   ]
  },
  {
   "cell_type": "code",
   "execution_count": 29,
   "id": "c0b2513e-bed5-4e7a-ab55-e307d84c74ca",
   "metadata": {},
   "outputs": [
    {
     "data": {
      "text/plain": [
       "I       1\n",
       "II     12\n",
       "III    13\n",
       "IV     -1\n",
       "V      42\n",
       "dtype: int64"
      ]
     },
     "execution_count": 29,
     "metadata": {},
     "output_type": "execute_result"
    }
   ],
   "source": [
    "dic_4 = {\"V\":42}\n",
    "s8 = pd.Series(dic_4)\n",
    "\n",
    "pd.concat([s7,s8]) #Usado para \"empilhar\" séries"
   ]
  },
  {
   "cell_type": "code",
   "execution_count": 30,
   "id": "9185fed2-0f3b-4217-bd28-759940b69511",
   "metadata": {},
   "outputs": [
    {
     "data": {
      "text/plain": [
       "I           10\n",
       "II          42\n",
       "III          7\n",
       "V      1000000\n",
       "I            1\n",
       "II          12\n",
       "III         13\n",
       "IV          -1\n",
       "dtype: int64"
      ]
     },
     "execution_count": 30,
     "metadata": {},
     "output_type": "execute_result"
    }
   ],
   "source": [
    "s9 = pd.concat([s6,s7])\n",
    "s9"
   ]
  },
  {
   "cell_type": "code",
   "execution_count": 31,
   "id": "d1851366-74b2-4d54-9931-ead8db901a17",
   "metadata": {},
   "outputs": [
    {
     "data": {
      "text/plain": [
       "I    10\n",
       "I     1\n",
       "dtype: int64"
      ]
     },
     "execution_count": 31,
     "metadata": {},
     "output_type": "execute_result"
    }
   ],
   "source": [
    "s9.loc[\"I\"] #Se tem mais de um elemento com o mesmo índice, ele retorna todos"
   ]
  },
  {
   "cell_type": "code",
   "execution_count": 32,
   "id": "43c496ed-c664-4b97-8d7f-893c0304a37f",
   "metadata": {},
   "outputs": [
    {
     "data": {
      "text/plain": [
       "np.int64(8)"
      ]
     },
     "execution_count": 32,
     "metadata": {},
     "output_type": "execute_result"
    }
   ],
   "source": [
    "s9.count()"
   ]
  },
  {
   "cell_type": "code",
   "execution_count": 33,
   "id": "b57b4e12-5d93-4c25-aad9-6b4ae59e423c",
   "metadata": {},
   "outputs": [
    {
     "data": {
      "text/plain": [
       "8"
      ]
     },
     "execution_count": 33,
     "metadata": {},
     "output_type": "execute_result"
    }
   ],
   "source": [
    "s9.size"
   ]
  },
  {
   "cell_type": "markdown",
   "id": "7544038c-f482-40fb-83fc-de7c53c84e90",
   "metadata": {},
   "source": [
    "## Tratando NAs"
   ]
  },
  {
   "cell_type": "code",
   "execution_count": 34,
   "id": "ac8a0178-6bbc-456b-9a38-0db62c42dc0a",
   "metadata": {},
   "outputs": [
    {
     "data": {
      "text/plain": [
       "I           11.0\n",
       "II          54.0\n",
       "III         20.0\n",
       "IV           8.0\n",
       "V      1000009.0\n",
       "dtype: float64"
      ]
     },
     "execution_count": 34,
     "metadata": {},
     "output_type": "execute_result"
    }
   ],
   "source": [
    "resultado = s6.add(s7, fill_value = 9) #Em operações, podemos usar o parâmetro `fill_value` para definir um valor padrão para as contas\n",
    "resultado"
   ]
  },
  {
   "cell_type": "code",
   "execution_count": 35,
   "id": "3f7364aa-6517-4823-8971-02de13702fa1",
   "metadata": {},
   "outputs": [
    {
     "data": {
      "text/plain": [
       "np.int64(5)"
      ]
     },
     "execution_count": 35,
     "metadata": {},
     "output_type": "execute_result"
    }
   ],
   "source": [
    "resultado.count()"
   ]
  },
  {
   "cell_type": "code",
   "execution_count": 36,
   "id": "9ae97647-0049-4b91-ad04-deef15dcf02a",
   "metadata": {},
   "outputs": [
    {
     "data": {
      "text/plain": [
       "5"
      ]
     },
     "execution_count": 36,
     "metadata": {},
     "output_type": "execute_result"
    }
   ],
   "source": [
    "resultado.size"
   ]
  },
  {
   "cell_type": "code",
   "execution_count": 37,
   "id": "3e7989e9-a732-4afc-8d50-bed9f0147cc2",
   "metadata": {},
   "outputs": [
    {
     "data": {
      "text/plain": [
       "I       9.0\n",
       "II     30.0\n",
       "III    -6.0\n",
       "dtype: float64"
      ]
     },
     "execution_count": 37,
     "metadata": {},
     "output_type": "execute_result"
    }
   ],
   "source": [
    "resultado = s6.sub(s7) \n",
    "resultado.dropna(inplace = True) #O drop Na vai excluir os Nas da array, deixando ela menor\n",
    "resultado"
   ]
  },
  {
   "cell_type": "code",
   "execution_count": 38,
   "id": "22f86b41-8924-426d-aafe-d3e9392e02f2",
   "metadata": {},
   "outputs": [
    {
     "data": {
      "text/plain": [
       "3"
      ]
     },
     "execution_count": 38,
     "metadata": {},
     "output_type": "execute_result"
    }
   ],
   "source": [
    "resultado.size"
   ]
  },
  {
   "cell_type": "code",
   "execution_count": 39,
   "id": "f52f6d36-a03e-49d7-b521-99e9b1a431ec",
   "metadata": {},
   "outputs": [
    {
     "data": {
      "text/plain": [
       "I       9.0\n",
       "II     30.0\n",
       "III    -6.0\n",
       "IV      7.0\n",
       "V       7.0\n",
       "dtype: float64"
      ]
     },
     "execution_count": 39,
     "metadata": {},
     "output_type": "execute_result"
    }
   ],
   "source": [
    "resultado = s6.sub(s7) \n",
    "resultado.fillna(7, inplace = True) #Já o fill Na vai trocar os Nas por algum valor especificado\n",
    "resultado"
   ]
  },
  {
   "cell_type": "code",
   "execution_count": 40,
   "id": "061086ff-32d4-47b7-8718-4b3f29bf001c",
   "metadata": {},
   "outputs": [
    {
     "data": {
      "text/plain": [
       "5"
      ]
     },
     "execution_count": 40,
     "metadata": {},
     "output_type": "execute_result"
    }
   ],
   "source": [
    "resultado.size"
   ]
  },
  {
   "cell_type": "markdown",
   "id": "7e82504f-001c-42d2-9751-b1075b10815f",
   "metadata": {},
   "source": [
    "## Ordenando séries"
   ]
  },
  {
   "cell_type": "code",
   "execution_count": 41,
   "id": "f95b9296-1833-4327-ba0e-c5b503392cb1",
   "metadata": {
    "scrolled": true
   },
   "outputs": [
    {
     "data": {
      "text/plain": [
       "I           10\n",
       "II          42\n",
       "III          7\n",
       "V      1000000\n",
       "I            1\n",
       "II          12\n",
       "III         13\n",
       "IV          -1\n",
       "dtype: int64"
      ]
     },
     "execution_count": 41,
     "metadata": {},
     "output_type": "execute_result"
    }
   ],
   "source": [
    "s9"
   ]
  },
  {
   "cell_type": "code",
   "execution_count": 42,
   "id": "f336fd71-8be1-4369-9714-16ce1402e6d1",
   "metadata": {},
   "outputs": [
    {
     "data": {
      "text/plain": [
       "IV          -1\n",
       "I            1\n",
       "III          7\n",
       "I           10\n",
       "II          12\n",
       "III         13\n",
       "II          42\n",
       "V      1000000\n",
       "dtype: int64"
      ]
     },
     "execution_count": 42,
     "metadata": {},
     "output_type": "execute_result"
    }
   ],
   "source": [
    "s9.sort_values() #Ordena usando valores"
   ]
  },
  {
   "cell_type": "code",
   "execution_count": 43,
   "id": "da55b5bc-9015-4efd-bc18-435341ca34e4",
   "metadata": {},
   "outputs": [
    {
     "data": {
      "text/plain": [
       "I           10\n",
       "I            1\n",
       "II          42\n",
       "II          12\n",
       "III          7\n",
       "III         13\n",
       "IV          -1\n",
       "V      1000000\n",
       "dtype: int64"
      ]
     },
     "execution_count": 43,
     "metadata": {},
     "output_type": "execute_result"
    }
   ],
   "source": [
    "s9.sort_index() #Ordena usando índices"
   ]
  },
  {
   "cell_type": "code",
   "execution_count": 44,
   "id": "daf6793c-e856-4aa0-8f12-ef4553adcf12",
   "metadata": {},
   "outputs": [
    {
     "name": "stdout",
     "output_type": "stream",
     "text": [
      "'<' not supported between instances of 'str' and 'int'\n"
     ]
    }
   ],
   "source": [
    "try:\n",
    "    pd.Series({1: 2, \"2\": 3}).sort_index() #Não é possível ordenar por índices mistos\n",
    "except Exception as e:\n",
    "    print(e)"
   ]
  },
  {
   "cell_type": "markdown",
   "id": "34629bca-73d6-47bd-806c-e3ced61934d0",
   "metadata": {},
   "source": [
    "## Universal Functions (ufuncs)"
   ]
  },
  {
   "cell_type": "code",
   "execution_count": 45,
   "id": "1962c7ba-1daa-4611-99d6-8f58b2de418a",
   "metadata": {},
   "outputs": [
    {
     "data": {
      "text/plain": [
       "I           10\n",
       "II          42\n",
       "III          7\n",
       "V      1000000\n",
       "I            1\n",
       "II          12\n",
       "III         13\n",
       "IV          -1\n",
       "dtype: int64"
      ]
     },
     "execution_count": 45,
     "metadata": {},
     "output_type": "execute_result"
    }
   ],
   "source": [
    "s9"
   ]
  },
  {
   "cell_type": "code",
   "execution_count": 46,
   "id": "23b6959e-6e0e-4a21-8ce1-cc02d0bee2ea",
   "metadata": {},
   "outputs": [
    {
     "data": {
      "text/plain": [
       "np.int64(-1)"
      ]
     },
     "execution_count": 46,
     "metadata": {},
     "output_type": "execute_result"
    }
   ],
   "source": [
    "np.amin(s9) #Funções numpy pensadas para arrays podem ser usadas em séries"
   ]
  },
  {
   "cell_type": "code",
   "execution_count": 47,
   "id": "414b214a-93c0-4fd5-a6db-57655f6fa587",
   "metadata": {},
   "outputs": [
    {
     "data": {
      "text/plain": [
       "np.int64(1000001)"
      ]
     },
     "execution_count": 47,
     "metadata": {},
     "output_type": "execute_result"
    }
   ],
   "source": [
    "np.ptp(s9)"
   ]
  },
  {
   "cell_type": "code",
   "execution_count": 48,
   "id": "9e3d19a5-f24f-4869-bc21-7cbc35eaee3f",
   "metadata": {},
   "outputs": [
    {
     "data": {
      "text/plain": [
       "np.float64(5.5)"
      ]
     },
     "execution_count": 48,
     "metadata": {},
     "output_type": "execute_result"
    }
   ],
   "source": [
    "np.percentile(s9, 25)"
   ]
  },
  {
   "cell_type": "code",
   "execution_count": 49,
   "id": "41065a7d-6881-4130-ab15-dabc7e4a1a20",
   "metadata": {},
   "outputs": [
    {
     "data": {
      "text/plain": [
       "np.float64(125010.5)"
      ]
     },
     "execution_count": 49,
     "metadata": {},
     "output_type": "execute_result"
    }
   ],
   "source": [
    "np.mean(s9)"
   ]
  },
  {
   "cell_type": "code",
   "execution_count": 50,
   "id": "6f8130e3-4a0f-48b2-ba3a-921342381fc0",
   "metadata": {},
   "outputs": [
    {
     "data": {
      "text/plain": [
       "np.float64(11.0)"
      ]
     },
     "execution_count": 50,
     "metadata": {},
     "output_type": "execute_result"
    }
   ],
   "source": [
    "np.median(s9)"
   ]
  },
  {
   "cell_type": "code",
   "execution_count": 51,
   "id": "99857f57-a335-4ba3-83e6-d7ba12cb58c3",
   "metadata": {},
   "outputs": [
    {
     "data": {
      "text/plain": [
       "np.float64(330714.9454866683)"
      ]
     },
     "execution_count": 51,
     "metadata": {},
     "output_type": "execute_result"
    }
   ],
   "source": [
    "np.std(s9)"
   ]
  },
  {
   "cell_type": "code",
   "execution_count": 52,
   "id": "dbe618dd-00db-4dac-90ea-3229ac4c3608",
   "metadata": {},
   "outputs": [
    {
     "data": {
      "text/plain": [
       "np.float64(109372375168.25)"
      ]
     },
     "execution_count": 52,
     "metadata": {},
     "output_type": "execute_result"
    }
   ],
   "source": [
    "np.var(s9)"
   ]
  },
  {
   "cell_type": "code",
   "execution_count": 53,
   "id": "8b87d886-db7a-4ec4-a755-51fcfdab5795",
   "metadata": {},
   "outputs": [
    {
     "data": {
      "text/plain": [
       "np.float64(125010.5)"
      ]
     },
     "execution_count": 53,
     "metadata": {},
     "output_type": "execute_result"
    }
   ],
   "source": [
    "np.average(s9)"
   ]
  },
  {
   "cell_type": "code",
   "execution_count": 54,
   "id": "607844ad-3c0d-497a-bd13-8468f1fedee7",
   "metadata": {},
   "outputs": [
    {
     "name": "stdout",
     "output_type": "stream",
     "text": [
      "Return the minimum of an array or minimum along an axis.\n",
      "\n",
      "`amin` is an alias of `~numpy.min`.\n",
      "\n",
      "See Also\n",
      "--------\n",
      "min : alias of this function\n",
      "ndarray.min : equivalent method\n"
     ]
    }
   ],
   "source": [
    "np.info(np.amin)"
   ]
  },
  {
   "cell_type": "code",
   "execution_count": 55,
   "id": "6b2cb8ca-8e8a-4aec-941f-b2bdab4af0a5",
   "metadata": {},
   "outputs": [
    {
     "data": {
      "text/plain": [
       "count          8.000000\n",
       "mean      125010.500000\n",
       "std       353549.148199\n",
       "min           -1.000000\n",
       "25%            5.500000\n",
       "50%           11.000000\n",
       "75%           20.250000\n",
       "max      1000000.000000\n",
       "dtype: float64"
      ]
     },
     "execution_count": 55,
     "metadata": {},
     "output_type": "execute_result"
    }
   ],
   "source": [
    "s9.describe() #As séries oferecem o método describe, já que é comum analisar datasets usando `pandas`"
   ]
  }
 ],
 "metadata": {
  "kernelspec": {
   "display_name": "faculdade",
   "language": "python",
   "name": "faculdade"
  },
  "language_info": {
   "codemirror_mode": {
    "name": "ipython",
    "version": 3
   },
   "file_extension": ".py",
   "mimetype": "text/x-python",
   "name": "python",
   "nbconvert_exporter": "python",
   "pygments_lexer": "ipython3",
   "version": "3.12.5"
  }
 },
 "nbformat": 4,
 "nbformat_minor": 5
}
